{
 "cells": [
  {
   "cell_type": "code",
   "execution_count": 2,
   "id": "7d8a1b1c",
   "metadata": {
    "scrolled": true
   },
   "outputs": [
    {
     "name": "stdout",
     "output_type": "stream",
     "text": [
      "Collecting opencv-contrib-python\n",
      "  Using cached opencv_contrib_python-4.6.0.66-cp36-abi3-win_amd64.whl (42.5 MB)\n",
      "Requirement already satisfied: numpy>=1.17.3 in c:\\users\\shrey\\appdata\\roaming\\python\\python38\\site-packages (from opencv-contrib-python) (1.22.4)\n",
      "Installing collected packages: opencv-contrib-python\n",
      "Successfully installed opencv-contrib-python-4.6.0.66\n"
     ]
    }
   ],
   "source": [
    "!pip install opencv-contrib-python"
   ]
  },
  {
   "cell_type": "code",
   "execution_count": 2,
   "id": "5b18c227",
   "metadata": {},
   "outputs": [],
   "source": [
    "import numpy as np\n",
    "import cv2 as cv2"
   ]
  },
  {
   "cell_type": "code",
   "execution_count": 4,
   "id": "322c66a5",
   "metadata": {},
   "outputs": [],
   "source": [
    "def click(event, x, y, flags, param):\n",
    "    #if event == cv2.EVENT_LBUTTONDOWN:\n",
    "      # print(x,',',y)\n",
    "      # font = cv2.FONT_HERSHEY_SIMPLEX\n",
    "      # XY = str(x) + ',' + str(y)\n",
    "      # cv2.putText(img, XY, (x,y), font,.5, (255, 255,0), 2)\n",
    "      # cv2.imshow('image',img)\n",
    "    if event == cv2.EVENT_LBUTTONDOWN:\n",
    "        blue= img[y,x,0]\n",
    "        green=img[y,x,1]\n",
    "        red=img[y,x,2]\n",
    "        cv2.circle(img, (x,y), 2, (0,0,255), -1)\n",
    "        font = cv2.FONT_HERSHEY_SIMPLEX\n",
    "        BGR = str(blue) + ','+ str(green)+ ',' + str(red)\n",
    "        cv2.putText(img, BGR, (x,y), font,.5, (0, 255,0), 2)\n",
    "        cv2.imshow('image',img)\n",
    "        mycolor= np.zeros((512,512,3), np.uint8)\n",
    "        mycolor[:] =[blue, green, red]\n",
    "        cv2.imshow('My color', mycolor)\n",
    "        \n",
    "img= cv2.imread(r\"C:\\Users\\shrey\\Downloads\\Facepaint.png\")\n",
    "cv2.imshow('image', img)\n",
    "\n",
    "cv2.setMouseCallback('image', click)\n",
    "cv2.waitKey(0)\n",
    "cv2.destroyAllWindows()"
   ]
  },
  {
   "cell_type": "code",
   "execution_count": null,
   "id": "94700558",
   "metadata": {},
   "outputs": [],
   "source": []
  }
 ],
 "metadata": {
  "kernelspec": {
   "display_name": "Python 3",
   "language": "python",
   "name": "python3"
  },
  "language_info": {
   "codemirror_mode": {
    "name": "ipython",
    "version": 3
   },
   "file_extension": ".py",
   "mimetype": "text/x-python",
   "name": "python",
   "nbconvert_exporter": "python",
   "pygments_lexer": "ipython3",
   "version": "3.8.8"
  }
 },
 "nbformat": 4,
 "nbformat_minor": 5
}
